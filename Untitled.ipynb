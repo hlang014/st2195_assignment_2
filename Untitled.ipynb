{
 "cells": [
  {
   "cell_type": "markdown",
   "id": "264c47c1-1e52-4f4b-9f34-a31397b3f3c0",
   "metadata": {},
   "source": [
    "## Introduction"
   ]
  },
  {
   "cell_type": "code",
   "execution_count": 18,
   "id": "b97740e3-4f07-4bd9-9e53-9de9a4d29ec5",
   "metadata": {},
   "outputs": [],
   "source": [
    "import bs4\n",
    "import requests\n"
   ]
  },
  {
   "cell_type": "code",
   "execution_count": 20,
   "id": "bda97db5-0801-4348-8e0a-20939f4adb24",
   "metadata": {},
   "outputs": [],
   "source": [
    "wiki_html = requests.get(\"https://en.wikipedia.org/wiki/Comma-separated_values\")\n",
    "soup = BeautfiulSoup(wiki."
   ]
  },
  {
   "cell_type": "code",
   "execution_count": null,
   "id": "aadf626b-fc54-4464-bca5-965a783b8f42",
   "metadata": {},
   "outputs": [],
   "source": [
    "ths = soup.find(id = 'Example') #locate where the id =\n",
    "csv_text = ths.findNext('pre').text\n",
    "csv_text"
   ]
  }
 ],
 "metadata": {
  "kernelspec": {
   "display_name": "Python 3 (ipykernel)",
   "language": "python",
   "name": "python3"
  },
  "language_info": {
   "codemirror_mode": {
    "name": "ipython",
    "version": 3
   },
   "file_extension": ".py",
   "mimetype": "text/x-python",
   "name": "python",
   "nbconvert_exporter": "python",
   "pygments_lexer": "ipython3",
   "version": "3.11.7"
  }
 },
 "nbformat": 4,
 "nbformat_minor": 5
}
